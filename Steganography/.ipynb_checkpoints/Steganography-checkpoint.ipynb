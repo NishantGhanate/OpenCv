{
 "cells": [
  {
   "cell_type": "code",
   "execution_count": 1,
   "metadata": {},
   "outputs": [],
   "source": [
    "import cv2 \n",
    "import re"
   ]
  },
  {
   "cell_type": "code",
   "execution_count": 2,
   "metadata": {
    "scrolled": false
   },
   "outputs": [
    {
     "name": "stdout",
     "output_type": "stream",
     "text": [
      "Printing image size  Height = 2 , Width = 12 , Channel = 3 \n"
     ]
    }
   ],
   "source": [
    "img = cv2.imread(\"H:/Github/OpenCv/Research/images/Stegtest.jpg\")\n",
    "\n",
    "imageHeight , imageWidth , colorChannel = img.shape\n",
    "\n",
    "print('Printing image size  Height = {} , Width = {} , Channel = {} '.format(imageHeight,imageWidth,colorChannel))\n"
   ]
  },
  {
   "cell_type": "code",
   "execution_count": 3,
   "metadata": {},
   "outputs": [
    {
     "name": "stdout",
     "output_type": "stream",
     "text": [
      "Red channel = [  0  87   0   0  17 105 107 197 174 161 191 115]\n",
      "Green channel = [ 12 121  10  63 150 237 153 146  84  97 172 118]\n",
      "Blue channel = [  4 167 118 185 218 214  64  54  49 127 235 179]\n",
      "Red channel = [126 178 160 101  85  87 187 212 215 223 116 234]\n",
      "Green channel = [211 212 173 164 218 219 233 161 125 159  97 237]\n",
      "Blue channel = [203 255 255 255 255 196 144  69  90 189 160 255]\n"
     ]
    }
   ],
   "source": [
    "# Slitting the image into Red Green Blue Channels\n",
    "Red,Green,Blue = cv2.split(img)  \n",
    "\n",
    "for r,g,b in zip(Red,Green,Blue):\n",
    "    print(\"Red channel = {}\".format(r))\n",
    "    print(\"Green channel = {}\".format(g))\n",
    "    print(\"Blue channel = {}\".format(b))\n",
    "    "
   ]
  },
  {
   "cell_type": "code",
   "execution_count": 4,
   "metadata": {},
   "outputs": [
    {
     "name": "stdout",
     "output_type": "stream",
     "text": [
      "Msg Nishant converted to ASCII = [78, 105, 115, 104, 97, 110, 116] \n"
     ]
    }
   ],
   "source": [
    "# Now converting user message into Ascii \n",
    "Msg = 'Nishant'\n",
    "AsciiMsg = [ord(m) for m in Msg]\n",
    "print(\"Msg {} converted to ASCII = {} \".format( Msg ,AsciiMsg ) )"
   ]
  },
  {
   "cell_type": "code",
   "execution_count": 5,
   "metadata": {},
   "outputs": [
    {
     "name": "stdout",
     "output_type": "stream",
     "text": [
      "Ascii converted to binary\n",
      "\n",
      "Ascii : 78 = Binary : 0b1001110\n",
      "Ascii : 105 = Binary : 0b1101001\n",
      "Ascii : 115 = Binary : 0b1110011\n",
      "Ascii : 104 = Binary : 0b1101000\n",
      "Ascii : 97 = Binary : 0b1100001\n",
      "Ascii : 110 = Binary : 0b1101110\n",
      "Ascii : 116 = Binary : 0b1110100\n"
     ]
    }
   ],
   "source": [
    "# Converting Ascii Msg  to binary value\n",
    "binaryMsg = [ bin(a) for a in AsciiMsg]\n",
    "print(\"Ascii converted to binary\\n\")\n",
    "\n",
    "for i in range(len(AsciiMsg)):\n",
    "    print(\"Ascii : {} = Binary : {}\".format(AsciiMsg[i],binaryMsg[i] ))"
   ]
  },
  {
   "cell_type": "code",
   "execution_count": 6,
   "metadata": {
    "scrolled": true
   },
   "outputs": [
    {
     "name": "stdout",
     "output_type": "stream",
     "text": [
      "1001110\n",
      "1101001\n",
      "1110011\n",
      "1101000\n",
      "1100001\n",
      "1101110\n",
      "1110100\n"
     ]
    }
   ],
   "source": [
    "# Note : binary is of type str\n",
    "# Also we only requite 8-bit value given binary is 10-bit so we will replace ob with blank \"\"\n",
    "\n",
    "for i in range( len(binaryMsg) ):\n",
    "    binaryMsg[i] = binaryMsg[i].replace(\"0b\", \"\")\n",
    "    print(binaryMsg[i])\n"
   ]
  },
  {
   "cell_type": "code",
   "execution_count": null,
   "metadata": {},
   "outputs": [],
   "source": [
    "# Now we have an Single-Dimension array of binary Message  consiting of 7 chars * 8 bits = 56 bits\n",
    "# And the image size = 2 X 12 = 24 pixel's  \n",
    "# To hide the Secret Message we will store it into Least-Significant-Bit of Red channel , \n",
    "# but like that we will only we able to store 24 bits of data out of 56 \n",
    "# If we use RGB channels by using 1 bit/Channel we can store upto to 72 bits into image .\n"
   ]
  },
  {
   "cell_type": "code",
   "execution_count": null,
   "metadata": {},
   "outputs": [],
   "source": []
  },
  {
   "cell_type": "code",
   "execution_count": null,
   "metadata": {},
   "outputs": [],
   "source": [
    "\n"
   ]
  },
  {
   "cell_type": "code",
   "execution_count": null,
   "metadata": {},
   "outputs": [],
   "source": []
  },
  {
   "cell_type": "code",
   "execution_count": null,
   "metadata": {},
   "outputs": [],
   "source": []
  },
  {
   "cell_type": "code",
   "execution_count": null,
   "metadata": {},
   "outputs": [],
   "source": []
  }
 ],
 "metadata": {
  "kernelspec": {
   "display_name": "Python 3",
   "language": "python",
   "name": "python3"
  },
  "language_info": {
   "codemirror_mode": {
    "name": "ipython",
    "version": 3
   },
   "file_extension": ".py",
   "mimetype": "text/x-python",
   "name": "python",
   "nbconvert_exporter": "python",
   "pygments_lexer": "ipython3",
   "version": "3.6.5"
  }
 },
 "nbformat": 4,
 "nbformat_minor": 2
}
