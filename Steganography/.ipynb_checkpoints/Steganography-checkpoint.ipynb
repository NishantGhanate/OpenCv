{
 "cells": [
  {
   "cell_type": "code",
   "execution_count": 53,
   "metadata": {},
   "outputs": [],
   "source": [
    "import cv2 \n",
    "import re\n",
    "import os"
   ]
  },
  {
   "cell_type": "code",
   "execution_count": 54,
   "metadata": {
    "scrolled": false
   },
   "outputs": [
    {
     "name": "stdout",
     "output_type": "stream",
     "text": [
      "Printing image size  Height = 30 , Width = 40 , Channel = 3 \n"
     ]
    }
   ],
   "source": [
    "img = cv2.imread(\"H:/Github/OpenCv/Research/images/RGB.png\")\n",
    "\n",
    "imageHeight , imageWidth , colorChannel = img.shape\n",
    "\n",
    "print('Printing image size  Height = {} , Width = {} , Channel = {} '.format(imageHeight,imageWidth,colorChannel))\n"
   ]
  },
  {
   "cell_type": "code",
   "execution_count": 55,
   "metadata": {},
   "outputs": [
    {
     "name": "stdout",
     "output_type": "stream",
     "text": [
      "[[[  0   0 255]\n",
      "  [  0   0 255]\n",
      "  [  0   0 255]\n",
      "  ...\n",
      "  [  0   0 255]\n",
      "  [  0   0 255]\n",
      "  [  0   0 255]]\n",
      "\n",
      " [[  0   0 255]\n",
      "  [  0   0 255]\n",
      "  [  0   0 255]\n",
      "  ...\n",
      "  [  0   0 255]\n",
      "  [  0   0 255]\n",
      "  [  0   0 255]]\n",
      "\n",
      " [[  0   0 255]\n",
      "  [  0   0 255]\n",
      "  [  0   0 255]\n",
      "  ...\n",
      "  [  0   0 255]\n",
      "  [  0   0 255]\n",
      "  [  0   0 255]]\n",
      "\n",
      " ...\n",
      "\n",
      " [[255   0   0]\n",
      "  [255   0   0]\n",
      "  [255   0   0]\n",
      "  ...\n",
      "  [255   0   0]\n",
      "  [255   0   0]\n",
      "  [255   0   0]]\n",
      "\n",
      " [[255   0   0]\n",
      "  [255   0   0]\n",
      "  [255   0   0]\n",
      "  ...\n",
      "  [255   0   0]\n",
      "  [255   0   0]\n",
      "  [255   0   0]]\n",
      "\n",
      " [[255   0   0]\n",
      "  [255   0   0]\n",
      "  [255   0   0]\n",
      "  ...\n",
      "  [255   0   0]\n",
      "  [255   0   0]\n",
      "  [255   0   0]]]\n"
     ]
    }
   ],
   "source": [
    "print(img)"
   ]
  },
  {
   "cell_type": "code",
   "execution_count": 56,
   "metadata": {},
   "outputs": [
    {
     "name": "stdout",
     "output_type": "stream",
     "text": [
      "[[255 255 255 ... 255 255 255]\n",
      " [255 255 255 ... 255 255 255]\n",
      " [255 255 255 ... 255 255 255]\n",
      " ...\n",
      " [  0   0   0 ...   0   0   0]\n",
      " [  0   0   0 ...   0   0   0]\n",
      " [  0   0   0 ...   0   0   0]]\n"
     ]
    }
   ],
   "source": [
    "Blue , Green , Red = cv2.split(img)\n",
    "# printing Red channel because will after altering Red channels bits we can see the difference\n",
    "print(Red)"
   ]
  },
  {
   "cell_type": "code",
   "execution_count": 57,
   "metadata": {},
   "outputs": [],
   "source": [
    "# function to convert Decimal to binary which return 8-bits\n",
    "\n",
    "def Dec2bin(n):\n",
    "    x=n\n",
    "    k=[]\n",
    "    while (n>0):\n",
    "        print(\"value of n = {}\".format(n))\n",
    "        a=int(float(n%2))\n",
    "        print(\"n%2 = {}\".format(a))\n",
    "        k.append(a)\n",
    "        n=(n-a)/2\n",
    "        print(\"(n-a)/2 = {}\".format(n))\n",
    "    string=\"\"\n",
    "\n",
    "    print(\"k = {}\".format(k) )\n",
    "    print(\" String reverse k[::-1] = {}\".format(k[::-1]) )\n",
    "    \n",
    "    \n",
    "    for j in k[::-1]:\n",
    "        print(\"value of j = {}\".format(j))\n",
    "        string=string+str(j)\n",
    "    \n",
    "    binaryLen = 8 - len(string)\n",
    "    print(binaryLen)\n",
    "    if binaryLen >= 1:\n",
    "        for i in range(binaryLen):\n",
    "            string = '0' + string\n",
    "            \n",
    "    print('The binary no. for %d is %s'%(x, string))\n",
    "    return string"
   ]
  },
  {
   "cell_type": "code",
   "execution_count": 65,
   "metadata": {},
   "outputs": [
    {
     "name": "stdout",
     "output_type": "stream",
     "text": [
      "01000001\n"
     ]
    }
   ],
   "source": [
    "msg = Dec2bin(65)\n",
    "print(msg)"
   ]
  },
  {
   "cell_type": "code",
   "execution_count": 66,
   "metadata": {
    "scrolled": true
   },
   "outputs": [
    {
     "name": "stdout",
     "output_type": "stream",
     "text": [
      "String @Nishant@ ASCII CODE = [64, 78, 105, 115, 104, 97, 110, 116, 64]\n"
     ]
    }
   ],
   "source": [
    "secretMessage = \"@Nishant@\"\n",
    "\n",
    "# Conversting String to ASCII CODE i.e @ = 64 , N = 74\n",
    "secretMessage = [ord(s) for s in secretMessage]\n",
    "print(\"String @Nishant@ ASCII CODE = {}\".format(secretMessage))\n",
    "  "
   ]
  },
  {
   "cell_type": "code",
   "execution_count": 67,
   "metadata": {},
   "outputs": [
    {
     "name": "stdout",
     "output_type": "stream",
     "text": [
      "Binary form = ['01000000', '01001110', '01101001', '01110011', '01101000', '01100001', '01101110', '01110100', '01000000']\n",
      "Message bits =['0', '1', '0', '0', '0', '0', '0', '0', '0', '1', '0', '0', '1', '1', '1', '0', '0', '1', '1', '0', '1', '0', '0', '1', '0', '1', '1', '1', '0', '0', '1', '1', '0', '1', '1', '0', '1', '0', '0', '0', '0', '1', '1', '0', '0', '0', '0', '1', '0', '1', '1', '0', '1', '1', '1', '0', '0', '1', '1', '1', '0', '1', '0', '0', '0', '1', '0', '0', '0', '0', '0', '0']\n",
      "Message len  =72\n"
     ]
    }
   ],
   "source": [
    "# Converting it's ASCII CODE to Binary form \n",
    "secretMsgBin = [Dec2bin(s) for s in secretMessage]\n",
    "print(\"Binary form = {}\".format(secretMsgBin))\n"
   ]
  },
  {
   "cell_type": "code",
   "execution_count": 69,
   "metadata": {},
   "outputs": [
    {
     "name": "stdout",
     "output_type": "stream",
     "text": [
      "Message bits = ['0', '1', '0', '0', '0', '0', '0', '0', '0', '1', '0', '0', '1', '1', '1', '0', '0', '1', '1', '0', '1', '0', '0', '1', '0', '1', '1', '1', '0', '0', '1', '1', '0', '1', '1', '0', '1', '0', '0', '0', '0', '1', '1', '0', '0', '0', '0', '1', '0', '1', '1', '0', '1', '1', '1', '0', '0', '1', '1', '1', '0', '1', '0', '0', '0', '1', '0', '0', '0', '0', '0', '0']\n",
      "Message len  = 72\n"
     ]
    }
   ],
   "source": [
    "# Making a single array of sinle bit's so it will be easy loop over it\n",
    "\n",
    "msgBits = []\n",
    "for s in secretMsgBin:\n",
    "    for b in s:\n",
    "        msgBits.append(b)\n",
    "\n",
    "print(\"Message bits = {}\".format(msgBits))\n",
    "print(\"Message len  = {}\".format(len(msgBits)) ) "
   ]
  },
  {
   "cell_type": "code",
   "execution_count": 73,
   "metadata": {},
   "outputs": [
    {
     "name": "stdout",
     "output_type": "stream",
     "text": [
      "Index = 0 \n",
      "Index = 1 \n",
      "Index = 2 \n",
      "Index = 3 \n",
      "Index = 4 \n",
      "Index = 5 \n",
      "Index = 6 \n",
      "Index = 7 \n",
      "Index = 8 \n",
      "Index = 9 \n",
      "Index = 10 \n",
      "Index = 11 \n",
      "Index = 12 \n",
      "Index = 13 \n",
      "Index = 14 \n",
      "Index = 15 \n",
      "Index = 16 \n",
      "Index = 17 \n",
      "Index = 18 \n",
      "Index = 19 \n",
      "Index = 20 \n",
      "Index = 21 \n",
      "Index = 22 \n",
      "Index = 23 \n",
      "Index = 24 \n",
      "Index = 25 \n",
      "Index = 26 \n",
      "Index = 27 \n",
      "Index = 28 \n",
      "Index = 29 \n",
      "Index = 30 \n",
      "Index = 31 \n",
      "Index = 32 \n",
      "Index = 33 \n",
      "Index = 34 \n",
      "Index = 35 \n",
      "Index = 36 \n",
      "Index = 37 \n",
      "Index = 38 \n",
      "Index = 39 \n",
      "Index = 40 \n",
      "Index = 41 \n",
      "Index = 42 \n",
      "Index = 43 \n",
      "Index = 44 \n",
      "Index = 45 \n",
      "Index = 46 \n",
      "Index = 47 \n",
      "Index = 48 \n",
      "Index = 49 \n",
      "Index = 50 \n",
      "Index = 51 \n",
      "Index = 52 \n",
      "Index = 53 \n",
      "Index = 54 \n",
      "Index = 55 \n",
      "Index = 56 \n",
      "Index = 57 \n",
      "Index = 58 \n",
      "Index = 59 \n",
      "Index = 60 \n",
      "Index = 61 \n",
      "Index = 62 \n",
      "Index = 63 \n",
      "Index = 64 \n",
      "Index = 65 \n",
      "Index = 66 \n",
      "Index = 67 \n",
      "Index = 68 \n",
      "Index = 69 \n",
      "Index = 70 \n",
      "Index = 71 \n",
      "Index = 72 \n"
     ]
    }
   ],
   "source": [
    "i = 0\n",
    "msgBitsLen = len(msgBits)-1\n",
    "Loop = True\n",
    "\n",
    "# This loop will only loop the total length of message bits \n",
    "# Our image gives us 2-D Matrix Height and Wdith \n",
    "\n",
    "for h in range(imageHeight):\n",
    "    if Loop:\n",
    "        for w in range(imageWidth):\n",
    "            print(\"Index = {} \".format(i) )\n",
    "            if i <= msgBitsLen:\n",
    "                # Converting decimal to binary of Red pixel \n",
    "                r = Dec2bin(Red[h][w])\n",
    "                print(\"r[-1] = {} , msg = {} \".format(r[-1] , msgBits[i] ))\n",
    "                # Replacing last bits of Red pixel with our message bits\n",
    "                r = re.sub(r[-1]+'$', msgBits[i] , r)\n",
    "                # converting back decimal to binary and placing it back on its location \n",
    "                Red[h][w] = int(r,2) \n",
    "                # Here i is our counter for msgBits Array\n",
    "                i = i + 1  \n",
    "            else:\n",
    "                # break the inner-loop as counter exceeds message length\n",
    "                # make outer loop condtion Flase to break \n",
    "                Loop = False\n",
    "                break\n",
    "    else:   \n",
    "        break\n",
    "                     "
   ]
  },
  {
   "cell_type": "code",
   "execution_count": 72,
   "metadata": {},
   "outputs": [
    {
     "name": "stdout",
     "output_type": "stream",
     "text": [
      "[[254 255 254 ... 254 254 254]\n",
      " [254 255 255 ... 255 255 255]\n",
      " [255 255 255 ... 255 255 255]\n",
      " ...\n",
      " [  0   0   0 ...   0   0   0]\n",
      " [  0   0   0 ...   0   0   0]\n",
      " [  0   0   0 ...   0   0   0]]\n"
     ]
    }
   ],
   "source": [
    "# Now you can see the diffrence in Red channel \n",
    "print(Red)"
   ]
  },
  {
   "cell_type": "code",
   "execution_count": 63,
   "metadata": {},
   "outputs": [
    {
     "data": {
      "text/plain": [
       "True"
      ]
     },
     "execution_count": 63,
     "metadata": {},
     "output_type": "execute_result"
    }
   ],
   "source": [
    "# Get our curring working Folder/Directory\n",
    "scriptDir = os.path.dirname(os.path.realpath('__file__'))\n",
    "# Merge back our RBG pixel \n",
    "# Note : OpenCv Reads and Write image in BGR Method (blue takes less amount of data that's why)\n",
    "img1 = cv2.merge([Blue,Green,Red])\n",
    "# finallay save our Encoded image\n",
    "cv2.imwrite(scriptDir + os.path.sep +'output'  + '.png' ,img1 )"
   ]
  }
 ],
 "metadata": {
  "kernelspec": {
   "display_name": "Python 3",
   "language": "python",
   "name": "python3"
  },
  "language_info": {
   "codemirror_mode": {
    "name": "ipython",
    "version": 3
   },
   "file_extension": ".py",
   "mimetype": "text/x-python",
   "name": "python",
   "nbconvert_exporter": "python",
   "pygments_lexer": "ipython3",
   "version": "3.6.5"
  }
 },
 "nbformat": 4,
 "nbformat_minor": 2
}
