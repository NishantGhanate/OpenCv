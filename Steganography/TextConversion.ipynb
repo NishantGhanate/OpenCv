{
 "cells": [
  {
   "cell_type": "code",
   "execution_count": 5,
   "metadata": {},
   "outputs": [],
   "source": [
    "import binascii\n",
    "\n",
    "def text_to_bits(text, encoding='utf-8', errors='surrogatepass'):\n",
    "    bits = bin(int(binascii.hexlify(text.encode(encoding, errors)), 16))[2:]\n",
    "    return bits.zfill(8 * ((len(bits) + 7) // 8))\n",
    "\n",
    "def text_from_bits(bits, encoding='utf-8', errors='surrogatepass'):\n",
    "    n = int(bits, 2)\n",
    "    return int2bytes(n).decode(encoding, errors)\n",
    "\n",
    "def int2bytes(i):\n",
    "    hex_string = '%x' % i\n",
    "    n = len(hex_string)\n",
    "    return binascii.unhexlify(hex_string.zfill(n + (n & 1)))"
   ]
  },
  {
   "cell_type": "code",
   "execution_count": 6,
   "metadata": {},
   "outputs": [
    {
     "name": "stdout",
     "output_type": "stream",
     "text": [
      "0110100001100101011011000110110001101111\n",
      "hello\n"
     ]
    }
   ],
   "source": [
    "msg = text_to_bits('hello')\n",
    "msg1 = text_from_bits(msg)\n",
    "print(msg)\n",
    "print(msg1)\n"
   ]
  },
  {
   "cell_type": "code",
   "execution_count": 10,
   "metadata": {},
   "outputs": [
    {
     "name": "stdout",
     "output_type": "stream",
     "text": [
      "01100001\n"
     ]
    }
   ],
   "source": [
    "msg = text_to_bits('a')\n",
    "print(msg)"
   ]
  },
  {
   "cell_type": "code",
   "execution_count": 11,
   "metadata": {},
   "outputs": [
    {
     "name": "stdout",
     "output_type": "stream",
     "text": [
      "97\n"
     ]
    }
   ],
   "source": [
    "msg = int(msg,2)\n",
    "print(msg)"
   ]
  },
  {
   "cell_type": "code",
   "execution_count": 15,
   "metadata": {},
   "outputs": [
    {
     "name": "stdout",
     "output_type": "stream",
     "text": [
      "b'A'\n"
     ]
    }
   ],
   "source": [
    "msg = int2bytes(65)\n",
    "print(msg)"
   ]
  },
  {
   "cell_type": "code",
   "execution_count": 5,
   "metadata": {},
   "outputs": [
    {
     "name": "stdout",
     "output_type": "stream",
     "text": [
      "please enter the no. in decimal format: 1\n",
      "value of n = 1\n",
      "n%2 = 1\n",
      "(n-a)/2 = 0.0\n",
      "k = [1]\n",
      "k[::-1] = [1]\n",
      "value of j = 1\n",
      " String len =\n",
      "7\n",
      "in loop\n",
      "in loop\n",
      "in loop\n",
      "in loop\n",
      "in loop\n",
      "in loop\n",
      "in loop\n",
      "The binary no. for 1 is 00000001\n",
      "length of binray = 8\n"
     ]
    }
   ],
   "source": [
    "n=int(input('please enter the no. in decimal format: '))\n",
    "x=n\n",
    "k=[]\n",
    "while (n>0):\n",
    "    print(\"value of n = {}\".format(n))\n",
    "    a=int(float(n%2))\n",
    "    print(\"n%2 = {}\".format(a))\n",
    "    k.append(a)\n",
    "    n=(n-a)/2\n",
    "    print(\"(n-a)/2 = {}\".format(n))\n",
    "\n",
    "string=\"\"\n",
    "\n",
    "print(\"k = {}\".format(k) )\n",
    "print(\"k[::-1] = {}\".format(k[::-1]) )\n",
    "\n",
    "for j in k[::-1]:\n",
    "    print(\"value of j = {}\".format(j))\n",
    "    string=string+str(j)\n",
    "\n",
    "print(\" String len =\".format(len(string)))\n",
    "\n",
    "binaryLen = 8 - len(string)\n",
    "print(binaryLen)\n",
    "if binaryLen >= 1:\n",
    "    for i in range(binaryLen):\n",
    "        string = '0' + string\n",
    "        print(\"in loop\")\n",
    "    \n",
    "    \n",
    "print('The binary no. for %d is %s'%(x, string))\n",
    "\n",
    "print(\"length of binray = {}\".format(len(string)))\n"
   ]
  },
  {
   "cell_type": "code",
   "execution_count": 2,
   "metadata": {},
   "outputs": [
    {
     "name": "stdout",
     "output_type": "stream",
     "text": [
      "2\n"
     ]
    }
   ],
   "source": [
    "print(int(string,2))"
   ]
  },
  {
   "cell_type": "code",
   "execution_count": null,
   "metadata": {},
   "outputs": [],
   "source": []
  }
 ],
 "metadata": {
  "kernelspec": {
   "display_name": "Python 3",
   "language": "python",
   "name": "python3"
  },
  "language_info": {
   "codemirror_mode": {
    "name": "ipython",
    "version": 3
   },
   "file_extension": ".py",
   "mimetype": "text/x-python",
   "name": "python",
   "nbconvert_exporter": "python",
   "pygments_lexer": "ipython3",
   "version": "3.6.5"
  }
 },
 "nbformat": 4,
 "nbformat_minor": 2
}
