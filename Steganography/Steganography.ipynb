{
 "cells": [
  {
   "cell_type": "code",
   "execution_count": 1,
   "metadata": {},
   "outputs": [],
   "source": [
    "import cv2 \n",
    "import re\n",
    "import os"
   ]
  },
  {
   "cell_type": "code",
   "execution_count": 2,
   "metadata": {
    "scrolled": false
   },
   "outputs": [
    {
     "name": "stdout",
     "output_type": "stream",
     "text": [
      "Printing image size  Height = 768 , Width = 1366 , Channel = 3 \n"
     ]
    }
   ],
   "source": [
    "img = cv2.imread(\"H:/Github/OpenCv/Research/images/bg5.jpg\")\n",
    "\n",
    "imageHeight , imageWidth , colorChannel = img.shape\n",
    "\n",
    "print('Printing image size  Height = {} , Width = {} , Channel = {} '.format(imageHeight,imageWidth,colorChannel))\n"
   ]
  },
  {
   "cell_type": "code",
   "execution_count": 3,
   "metadata": {},
   "outputs": [
    {
     "name": "stdout",
     "output_type": "stream",
     "text": [
      "[[[46 18  7]\n",
      "  [55 27 16]\n",
      "  [59 29 18]\n",
      "  ...\n",
      "  [61 33 33]\n",
      "  [61 35 35]\n",
      "  [44 20 20]]\n",
      "\n",
      " [[46 18  7]\n",
      "  [55 27 16]\n",
      "  [59 29 18]\n",
      "  ...\n",
      "  [61 33 33]\n",
      "  [61 35 35]\n",
      "  [44 20 20]]\n",
      "\n",
      " [[46 18  7]\n",
      "  [55 27 16]\n",
      "  [59 29 18]\n",
      "  ...\n",
      "  [61 33 33]\n",
      "  [62 36 36]\n",
      "  [44 20 20]]\n",
      "\n",
      " ...\n",
      "\n",
      " [[45 18  4]\n",
      "  [53 26 12]\n",
      "  [58 29 15]\n",
      "  ...\n",
      "  [54 26 15]\n",
      "  [56 29 19]\n",
      "  [39 17  6]]\n",
      "\n",
      " [[45 18  4]\n",
      "  [53 26 12]\n",
      "  [58 29 15]\n",
      "  ...\n",
      "  [54 26 15]\n",
      "  [56 29 19]\n",
      "  [39 17  6]]\n",
      "\n",
      " [[45 18  4]\n",
      "  [53 26 12]\n",
      "  [58 29 15]\n",
      "  ...\n",
      "  [54 26 15]\n",
      "  [56 29 19]\n",
      "  [39 17  6]]]\n"
     ]
    }
   ],
   "source": [
    "print(img)"
   ]
  },
  {
   "cell_type": "code",
   "execution_count": 4,
   "metadata": {},
   "outputs": [
    {
     "name": "stdout",
     "output_type": "stream",
     "text": [
      "[[ 7 16 18 ... 33 35 20]\n",
      " [ 7 16 18 ... 33 35 20]\n",
      " [ 7 16 18 ... 33 36 20]\n",
      " ...\n",
      " [ 4 12 15 ... 15 19  6]\n",
      " [ 4 12 15 ... 15 19  6]\n",
      " [ 4 12 15 ... 15 19  6]]\n"
     ]
    }
   ],
   "source": [
    "Blue , Green , Red = cv2.split(img)\n",
    "# printing Red channel because will after altering Red channels bits we can see the difference\n",
    "print(Red)"
   ]
  },
  {
   "cell_type": "code",
   "execution_count": 5,
   "metadata": {},
   "outputs": [],
   "source": [
    "# function to convert Decimal to binary which return 8-bits\n",
    "\n",
    "def Dec2bin(n):\n",
    "    x=n\n",
    "    k=[]\n",
    "    while (n>0):\n",
    "#         print(\"value of n = {}\".format(n))\n",
    "        a=int(float(n%2))\n",
    "#         print(\"n%2 = {}\".format(a))\n",
    "        k.append(a)\n",
    "        n=(n-a)/2\n",
    "#         print(\"(n-a)/2 = {}\".format(n))\n",
    "    string=\"\"\n",
    "\n",
    "#     print(\"k = {}\".format(k) )\n",
    "#     print(\" String reverse k[::-1] = {}\".format(k[::-1]) )\n",
    "    \n",
    "    \n",
    "    for j in k[::-1]:\n",
    "#         print(\"value of j = {}\".format(j))\n",
    "        string=string+str(j)\n",
    "    \n",
    "    binaryLen = 8 - len(string)\n",
    "#     print(binaryLen)\n",
    "    if binaryLen >= 1:\n",
    "        for i in range(binaryLen):\n",
    "            string = '0' + string\n",
    "            \n",
    "#     print('The binary no. for %d is %s'%(x, string))\n",
    "    return string"
   ]
  },
  {
   "cell_type": "code",
   "execution_count": 6,
   "metadata": {},
   "outputs": [
    {
     "name": "stdout",
     "output_type": "stream",
     "text": [
      "01000001\n"
     ]
    }
   ],
   "source": [
    "msg = Dec2bin(65)\n",
    "print(msg)"
   ]
  },
  {
   "cell_type": "code",
   "execution_count": 7,
   "metadata": {
    "scrolled": true
   },
   "outputs": [
    {
     "name": "stdout",
     "output_type": "stream",
     "text": [
      "String @Nishant@ ASCII CODE = [64, 122, 64]\n"
     ]
    }
   ],
   "source": [
    "secretMessage = \"@z@\"\n",
    "\n",
    "# Conversting String to ASCII CODE i.e @ = 64 , N = 74\n",
    "secretMessage = [ord(s) for s in secretMessage]\n",
    "print(\"String @Nishant@ ASCII CODE = {}\".format(secretMessage))\n",
    "  "
   ]
  },
  {
   "cell_type": "code",
   "execution_count": 8,
   "metadata": {},
   "outputs": [
    {
     "name": "stdout",
     "output_type": "stream",
     "text": [
      "Binary form = ['01000000', '01111010', '01000000']\n"
     ]
    }
   ],
   "source": [
    "# Converting it's ASCII CODE to Binary form \n",
    "secretMsgBin = [Dec2bin(s) for s in secretMessage]\n",
    "print(\"Binary form = {}\".format(secretMsgBin))\n"
   ]
  },
  {
   "cell_type": "code",
   "execution_count": 9,
   "metadata": {},
   "outputs": [
    {
     "name": "stdout",
     "output_type": "stream",
     "text": [
      "Message bits = ['0', '1', '0', '0', '0', '0', '0', '0', '0', '1', '1', '1', '1', '0', '1', '0', '0', '1', '0', '0', '0', '0', '0', '0']\n",
      "Message len  = 24\n"
     ]
    }
   ],
   "source": [
    "# Making a single array of sinle bit's so it will be easy loop over it\n",
    "\n",
    "msgBits = []\n",
    "for s in secretMsgBin:\n",
    "    for b in s:\n",
    "        msgBits.append(b)\n",
    "\n",
    "print(\"Message bits = {}\".format(msgBits))\n",
    "print(\"Message len  = {}\".format(len(msgBits)) ) "
   ]
  },
  {
   "cell_type": "code",
   "execution_count": 10,
   "metadata": {},
   "outputs": [
    {
     "name": "stdout",
     "output_type": "stream",
     "text": [
      "Index = 0 \n",
      "Before value 7\n",
      "r[-1] = 1 , msg = 0 \n",
      "before 00000111\n",
      "After 00000110\n",
      "After value 6\n",
      "\n",
      "\n",
      "Index = 1 \n",
      "Before value 16\n",
      "r[-1] = 0 , msg = 1 \n",
      "before 00010000\n",
      "After 00010001\n",
      "After value 17\n",
      "\n",
      "\n",
      "Index = 2 \n",
      "Before value 18\n",
      "r[-1] = 0 , msg = 0 \n",
      "before 00010010\n",
      "After 00010010\n",
      "After value 18\n",
      "\n",
      "\n",
      "Index = 3 \n",
      "Before value 16\n",
      "r[-1] = 0 , msg = 0 \n",
      "before 00010000\n",
      "After 00010000\n",
      "After value 16\n",
      "\n",
      "\n",
      "Index = 4 \n",
      "Before value 17\n",
      "r[-1] = 1 , msg = 0 \n",
      "before 00010001\n",
      "After 00010000\n",
      "After value 16\n",
      "\n",
      "\n",
      "Index = 5 \n",
      "Before value 17\n",
      "r[-1] = 1 , msg = 0 \n",
      "before 00010001\n",
      "After 00010000\n",
      "After value 16\n",
      "\n",
      "\n",
      "Index = 6 \n",
      "Before value 16\n",
      "r[-1] = 0 , msg = 0 \n",
      "before 00010000\n",
      "After 00010000\n",
      "After value 16\n",
      "\n",
      "\n",
      "Index = 7 \n",
      "Before value 17\n",
      "r[-1] = 1 , msg = 0 \n",
      "before 00010001\n",
      "After 00010000\n",
      "After value 16\n",
      "\n",
      "\n",
      "Index = 8 \n",
      "Before value 18\n",
      "r[-1] = 0 , msg = 0 \n",
      "before 00010010\n",
      "After 00010010\n",
      "After value 18\n",
      "\n",
      "\n",
      "Index = 9 \n",
      "Before value 17\n",
      "r[-1] = 1 , msg = 1 \n",
      "before 00010001\n",
      "After 00010001\n",
      "After value 17\n",
      "\n",
      "\n",
      "Index = 10 \n",
      "Before value 17\n",
      "r[-1] = 1 , msg = 1 \n",
      "before 00010001\n",
      "After 00010001\n",
      "After value 17\n",
      "\n",
      "\n",
      "Index = 11 \n",
      "Before value 17\n",
      "r[-1] = 1 , msg = 1 \n",
      "before 00010001\n",
      "After 00010001\n",
      "After value 17\n",
      "\n",
      "\n",
      "Index = 12 \n",
      "Before value 17\n",
      "r[-1] = 1 , msg = 1 \n",
      "before 00010001\n",
      "After 00010001\n",
      "After value 17\n",
      "\n",
      "\n",
      "Index = 13 \n",
      "Before value 17\n",
      "r[-1] = 1 , msg = 0 \n",
      "before 00010001\n",
      "After 00010000\n",
      "After value 16\n",
      "\n",
      "\n",
      "Index = 14 \n",
      "Before value 17\n",
      "r[-1] = 1 , msg = 1 \n",
      "before 00010001\n",
      "After 00010001\n",
      "After value 17\n",
      "\n",
      "\n",
      "Index = 15 \n",
      "Before value 18\n",
      "r[-1] = 0 , msg = 0 \n",
      "before 00010010\n",
      "After 00010010\n",
      "After value 18\n",
      "\n",
      "\n",
      "Index = 16 \n",
      "Before value 18\n",
      "r[-1] = 0 , msg = 0 \n",
      "before 00010010\n",
      "After 00010010\n",
      "After value 18\n",
      "\n",
      "\n",
      "Index = 17 \n",
      "Before value 18\n",
      "r[-1] = 0 , msg = 1 \n",
      "before 00010010\n",
      "After 00010011\n",
      "After value 19\n",
      "\n",
      "\n",
      "Index = 18 \n",
      "Before value 18\n",
      "r[-1] = 0 , msg = 0 \n",
      "before 00010010\n",
      "After 00010010\n",
      "After value 18\n",
      "\n",
      "\n",
      "Index = 19 \n",
      "Before value 18\n",
      "r[-1] = 0 , msg = 0 \n",
      "before 00010010\n",
      "After 00010010\n",
      "After value 18\n",
      "\n",
      "\n",
      "Index = 20 \n",
      "Before value 18\n",
      "r[-1] = 0 , msg = 0 \n",
      "before 00010010\n",
      "After 00010010\n",
      "After value 18\n",
      "\n",
      "\n",
      "Index = 21 \n",
      "Before value 18\n",
      "r[-1] = 0 , msg = 0 \n",
      "before 00010010\n",
      "After 00010010\n",
      "After value 18\n",
      "\n",
      "\n",
      "Index = 22 \n",
      "Before value 18\n",
      "r[-1] = 0 , msg = 0 \n",
      "before 00010010\n",
      "After 00010010\n",
      "After value 18\n",
      "\n",
      "\n",
      "Index = 23 \n",
      "Before value 18\n",
      "r[-1] = 0 , msg = 0 \n",
      "before 00010010\n",
      "After 00010010\n",
      "After value 18\n",
      "\n",
      "\n",
      "Index = 24 \n"
     ]
    }
   ],
   "source": [
    "i = 0\n",
    "msgBitsLen = len(msgBits)-1\n",
    "Loop = True\n",
    "\n",
    "# This loop will only loop the total length of message bits \n",
    "# Our image gives us 2-D Matrix Height and Wdith \n",
    "\n",
    "for h in range(imageHeight):\n",
    "    if Loop:\n",
    "        for w in range(imageWidth):\n",
    "            print(\"Index = {} \".format(i) )\n",
    "            if i <= msgBitsLen:\n",
    "                # Converting decimal to binary of Red pixel \n",
    "                print(\"Before value {}\".format(Red[h][w]) )\n",
    "                r = Dec2bin(Red[h][w])\n",
    "                print(\"r[-1] = {} , msg = {} \".format(r[-1] , msgBits[i] ))\n",
    "                print(\"before {}\".format(r))\n",
    "#                 Replacing last bits of Red pixel with our message bits\n",
    "                r = re.sub(r[-1]+'$', msgBits[i] , r)\n",
    "                print(\"After {}\".format(r))\n",
    "                # converting back decimal to binary and placing it back on its location \n",
    "                Red[h][w] = int(r,2) \n",
    "                print(\"After value {}\".format(int(r,2) ))\n",
    "                # Here i is our counter for msgBits Array\n",
    "                i = i + 1\n",
    "                print(\"\\n\")\n",
    "            else:\n",
    "                # break the inner-loop as counter exceeds message length\n",
    "                # make outer loop condtion Flase to break \n",
    "                Loop = False\n",
    "                break\n",
    "    else:   \n",
    "        break\n",
    "                     "
   ]
  },
  {
   "cell_type": "code",
   "execution_count": 11,
   "metadata": {},
   "outputs": [
    {
     "name": "stdout",
     "output_type": "stream",
     "text": [
      "[[ 6 17 18 ... 33 35 20]\n",
      " [ 7 16 18 ... 33 35 20]\n",
      " [ 7 16 18 ... 33 36 20]\n",
      " ...\n",
      " [ 4 12 15 ... 15 19  6]\n",
      " [ 4 12 15 ... 15 19  6]\n",
      " [ 4 12 15 ... 15 19  6]]\n"
     ]
    }
   ],
   "source": [
    "# Now you can see the diffrence in Red channel \n",
    "print(Red)"
   ]
  },
  {
   "cell_type": "code",
   "execution_count": 12,
   "metadata": {},
   "outputs": [
    {
     "data": {
      "text/plain": [
       "True"
      ]
     },
     "execution_count": 12,
     "metadata": {},
     "output_type": "execute_result"
    }
   ],
   "source": [
    "# Get our curring working Folder/Directory\n",
    "scriptDir = os.path.dirname(os.path.realpath('__file__'))\n",
    "# Merge back our RBG pixel \n",
    "# Note : OpenCv Reads and Write image in BGR Method (blue takes less amount of data that's why)\n",
    "img1 = cv2.merge([Blue,Green,Red])\n",
    "# finallay save our Encoded image\n",
    "cv2.imwrite('H:/Github/OpenCv/Research/images/A14.png',img1 )"
   ]
  },
  {
   "cell_type": "code",
   "execution_count": null,
   "metadata": {},
   "outputs": [],
   "source": []
  }
 ],
 "metadata": {
  "kernelspec": {
   "display_name": "Python 3",
   "language": "python",
   "name": "python3"
  },
  "language_info": {
   "codemirror_mode": {
    "name": "ipython",
    "version": 3
   },
   "file_extension": ".py",
   "mimetype": "text/x-python",
   "name": "python",
   "nbconvert_exporter": "python",
   "pygments_lexer": "ipython3",
   "version": "3.6.5"
  }
 },
 "nbformat": 4,
 "nbformat_minor": 2
}
