{
 "cells": [
  {
   "cell_type": "code",
   "execution_count": 16,
   "metadata": {},
   "outputs": [],
   "source": [
    "import cv2 \n",
    "import re\n",
    "import os"
   ]
  },
  {
   "cell_type": "code",
   "execution_count": 17,
   "metadata": {
    "scrolled": false
   },
   "outputs": [
    {
     "name": "stdout",
     "output_type": "stream",
     "text": [
      "Printing image size  Height = 2 , Width = 12 , Channel = 3 \n"
     ]
    }
   ],
   "source": [
    "img = cv2.imread(\"H:/Github/OpenCv/Research/images/Stegtest.jpg\")\n",
    "\n",
    "imageHeight , imageWidth , colorChannel = img.shape\n",
    "\n",
    "print('Printing image size  Height = {} , Width = {} , Channel = {} '.format(imageHeight,imageWidth,colorChannel))\n"
   ]
  },
  {
   "cell_type": "code",
   "execution_count": 18,
   "metadata": {},
   "outputs": [
    {
     "name": "stdout",
     "output_type": "stream",
     "text": [
      "[[[  0  12   4]\n",
      "  [ 87 121 167]\n",
      "  [  0  10 118]\n",
      "  [  0  63 185]\n",
      "  [ 17 150 218]\n",
      "  [105 237 214]\n",
      "  [107 153  64]\n",
      "  [197 146  54]\n",
      "  [174  84  49]\n",
      "  [161  97 127]\n",
      "  [191 172 235]\n",
      "  [115 118 179]]\n",
      "\n",
      " [[126 211 203]\n",
      "  [178 212 255]\n",
      "  [160 173 255]\n",
      "  [101 164 255]\n",
      "  [ 85 218 255]\n",
      "  [ 87 219 196]\n",
      "  [187 233 144]\n",
      "  [212 161  69]\n",
      "  [215 125  90]\n",
      "  [223 159 189]\n",
      "  [116  97 160]\n",
      "  [234 237 255]]]\n"
     ]
    }
   ],
   "source": [
    "print(img)"
   ]
  },
  {
   "cell_type": "code",
   "execution_count": 19,
   "metadata": {},
   "outputs": [
    {
     "name": "stdout",
     "output_type": "stream",
     "text": [
      "Red channel = [  0  87   0   0  17 105 107 197 174 161 191 115]\n",
      "Green channel = [ 12 121  10  63 150 237 153 146  84  97 172 118]\n",
      "Blue channel = [  4 167 118 185 218 214  64  54  49 127 235 179]\n",
      "Red channel = [126 178 160 101  85  87 187 212 215 223 116 234]\n",
      "Green channel = [211 212 173 164 218 219 233 161 125 159  97 237]\n",
      "Blue channel = [203 255 255 255 255 196 144  69  90 189 160 255]\n"
     ]
    }
   ],
   "source": [
    "# Slitting the image into Red Green Blue Channels\n",
    "Red,Green,Blue = cv2.split(img)  \n",
    "\n",
    "for r,g,b in zip(Red,Green,Blue):\n",
    "    print(\"Red channel = {}\".format(r))\n",
    "    print(\"Green channel = {}\".format(g))\n",
    "    print(\"Blue channel = {}\".format(b))\n",
    "\n"
   ]
  },
  {
   "cell_type": "code",
   "execution_count": 20,
   "metadata": {},
   "outputs": [
    {
     "name": "stdout",
     "output_type": "stream",
     "text": [
      "Msg Nio converted to ASCII = [78, 105, 111] \n"
     ]
    }
   ],
   "source": [
    "# Now converting user message into Ascii \n",
    "Msg = 'Nio'\n",
    "AsciiMsg = [ord(m) for m in Msg]\n",
    "print(\"Msg {} converted to ASCII = {} \".format( Msg ,AsciiMsg ) )"
   ]
  },
  {
   "cell_type": "code",
   "execution_count": 21,
   "metadata": {},
   "outputs": [
    {
     "name": "stdout",
     "output_type": "stream",
     "text": [
      "Ascii converted to binary\n",
      "\n",
      "Ascii : 78 = Binary : 0b1001110\n",
      "Ascii : 105 = Binary : 0b1101001\n",
      "Ascii : 111 = Binary : 0b1101111\n"
     ]
    }
   ],
   "source": [
    "# Converting Ascii Msg  to binary value\n",
    "binaryMsg = [ bin(a) for a in AsciiMsg]\n",
    "print(\"Ascii converted to binary\\n\")\n",
    "\n",
    "for i in range(len(AsciiMsg)):\n",
    "    print(\"Ascii : {} = Binary : {}\".format(AsciiMsg[i],binaryMsg[i] ))"
   ]
  },
  {
   "cell_type": "code",
   "execution_count": 22,
   "metadata": {
    "scrolled": true
   },
   "outputs": [
    {
     "name": "stdout",
     "output_type": "stream",
     "text": [
      "1001110\n",
      "1101001\n",
      "1101111\n"
     ]
    }
   ],
   "source": [
    "# Note : binary is of type str\n",
    "# Also we only requite 8-bit value given binary is 10-bit so we will replace ob with blank \"\"\n",
    "\n",
    "for i in range( len(binaryMsg) ):\n",
    "    binaryMsg[i] = binaryMsg[i].replace(\"0b\", \"\")\n",
    "    print(binaryMsg[i])\n"
   ]
  },
  {
   "cell_type": "code",
   "execution_count": 23,
   "metadata": {},
   "outputs": [
    {
     "name": "stdout",
     "output_type": "stream",
     "text": [
      "[78, 105, 111]\n",
      "['N', 'i', 'o']\n"
     ]
    }
   ],
   "source": [
    "\n",
    "msg = [int(\"0b\"+b,2) for b in binaryMsg]\n",
    "print(msg)\n",
    "\n",
    "\n",
    "stringMsg = [chr( m) for m in msg]\n",
    "print(stringMsg)"
   ]
  },
  {
   "cell_type": "code",
   "execution_count": 24,
   "metadata": {},
   "outputs": [
    {
     "name": "stdout",
     "output_type": "stream",
     "text": [
      "21\n",
      "['1', '0', '0', '1', '1', '1', '0', '1', '1', '0', '1', '0', '0', '1', '1', '1', '0', '1', '1', '1', '1']\n"
     ]
    }
   ],
   "source": [
    "# Now we have an Single-Dimension array of binary Message  consiting of 7 chars * 8 bits = 56 bits\n",
    "# And the image size = 2 X 12 = 24 pixel's  \n",
    "# To hide the Secret Message we will store it into Least-Significant-Bit of Red channel , \n",
    "# but like that we will only we able to store 24 bits of data out of 56 \n",
    "# If we use RGB channels by using 1 bit/Channel we can store upto to 72 bits into image .\n",
    "\n",
    "\n",
    "# coverting singlebit arryay\n",
    "Bits = []\n",
    "\n",
    "for b in binaryMsg:\n",
    "    for i in b:\n",
    "        Bits.append(i)\n",
    "        \n",
    "print(len(Bits))\n",
    "print(Bits)"
   ]
  },
  {
   "cell_type": "code",
   "execution_count": 25,
   "metadata": {},
   "outputs": [
    {
     "name": "stdout",
     "output_type": "stream",
     "text": [
      " Col = 0 , Row = 0 , Binary = 0b0\n",
      " Col = 0 , Row = 1 , Binary = 0b1010111\n",
      " Col = 0 , Row = 2 , Binary = 0b0\n",
      " Col = 0 , Row = 3 , Binary = 0b0\n",
      " Col = 0 , Row = 4 , Binary = 0b10001\n",
      " Col = 0 , Row = 5 , Binary = 0b1101001\n",
      " Col = 0 , Row = 6 , Binary = 0b1101011\n",
      " Col = 0 , Row = 7 , Binary = 0b11000101\n",
      " Col = 0 , Row = 8 , Binary = 0b10101110\n",
      " Col = 0 , Row = 9 , Binary = 0b10100001\n",
      " Col = 0 , Row = 10 , Binary = 0b10111111\n",
      " Col = 0 , Row = 11 , Binary = 0b1110011\n",
      " Col = 1 , Row = 0 , Binary = 0b1111110\n",
      " Col = 1 , Row = 1 , Binary = 0b10110010\n",
      " Col = 1 , Row = 2 , Binary = 0b10100000\n",
      " Col = 1 , Row = 3 , Binary = 0b1100101\n",
      " Col = 1 , Row = 4 , Binary = 0b1010101\n",
      " Col = 1 , Row = 5 , Binary = 0b1010111\n",
      " Col = 1 , Row = 6 , Binary = 0b10111011\n",
      " Col = 1 , Row = 7 , Binary = 0b11010100\n",
      " Col = 1 , Row = 8 , Binary = 0b11010111\n",
      " Col = 1 , Row = 9 , Binary = 0b11011111\n",
      " Col = 1 , Row = 10 , Binary = 0b1110100\n",
      " Col = 1 , Row = 11 , Binary = 0b11101010\n"
     ]
    }
   ],
   "source": [
    "i = 0\n",
    "Bitslen = len(Bits)\n",
    "loop = True\n",
    "\n",
    "\n",
    "for h in range(imageHeight):\n",
    "    for w in range(imageWidth):\n",
    "        r = bin(Red[h][w])\n",
    "        print(\" Col = {} , Row = {} , Binary = {}\" .format(h,w,r)) "
   ]
  },
  {
   "cell_type": "code",
   "execution_count": 26,
   "metadata": {},
   "outputs": [
    {
     "name": "stdout",
     "output_type": "stream",
     "text": [
      "[[  0  87   0   0  17 105 107 197 174 161 191 115]\n",
      " [126 178 160 101  85  87 187 212 215 223 116 234]]\n"
     ]
    }
   ],
   "source": [
    "print(Red)\n",
    "        "
   ]
  },
  {
   "cell_type": "code",
   "execution_count": 27,
   "metadata": {},
   "outputs": [
    {
     "name": "stdout",
     "output_type": "stream",
     "text": [
      "0\n",
      "87\n",
      "0\n",
      "0\n",
      "17\n",
      "105\n",
      "107\n",
      "197\n",
      "174\n",
      "161\n",
      "191\n",
      "115\n",
      "\n",
      "\n",
      "126\n",
      "178\n",
      "160\n",
      "101\n",
      "85\n",
      "87\n",
      "187\n",
      "212\n",
      "215\n",
      "223\n",
      "116\n",
      "234\n",
      "\n",
      "\n"
     ]
    }
   ],
   "source": [
    "for h in range(imageHeight):\n",
    "    for w in range(imageWidth):\n",
    "        print(Red[h][w])\n",
    "    print(\"\\n\")"
   ]
  },
  {
   "cell_type": "code",
   "execution_count": 28,
   "metadata": {},
   "outputs": [
    {
     "name": "stdout",
     "output_type": "stream",
     "text": [
      "0b0\n",
      "0b1\n",
      "0b1010111\n",
      "0b1010110\n",
      "0b0\n",
      "0b1\n",
      "0b1101011\n",
      "0b1101010\n",
      "0b10101110\n",
      "0b10101111\n",
      "0b10100001\n",
      "0b10100000\n",
      "0b1110011\n",
      "0b1110010\n",
      "0b10110010\n",
      "0b10110011\n",
      "0b10100000\n",
      "0b10100001\n",
      "0b1010101\n",
      "0b1010100\n",
      "0b11010100\n",
      "0b11010101\n"
     ]
    }
   ],
   "source": [
    "i = 0\n",
    "\n",
    "for h in range(imageHeight):\n",
    "    for w in range(imageWidth):\n",
    "        r = bin(Red[h][w])\n",
    "        \n",
    "        if r[-1] != Bits[i]:\n",
    "            print(r)\n",
    "            r = re.sub(r[-1]+'$', Bits[i] , r)\n",
    "            Red[h][w] = int(r,2) \n",
    "            print(r)\n",
    "            i = i+1 \n",
    "            if i >= len(Bits):\n",
    "                break\n",
    "        else:\n",
    "            i = i+1\n",
    "            if i >= len(Bits):\n",
    "                break\n",
    "  "
   ]
  },
  {
   "cell_type": "code",
   "execution_count": 30,
   "metadata": {
    "scrolled": true
   },
   "outputs": [
    {
     "name": "stdout",
     "output_type": "stream",
     "text": [
      "10\n"
     ]
    }
   ],
   "source": [
    "print(len(bin(255)))"
   ]
  },
  {
   "cell_type": "code",
   "execution_count": null,
   "metadata": {},
   "outputs": [],
   "source": []
  }
 ],
 "metadata": {
  "kernelspec": {
   "display_name": "Python 3",
   "language": "python",
   "name": "python3"
  },
  "language_info": {
   "codemirror_mode": {
    "name": "ipython",
    "version": 3
   },
   "file_extension": ".py",
   "mimetype": "text/x-python",
   "name": "python",
   "nbconvert_exporter": "python",
   "pygments_lexer": "ipython3",
   "version": "3.6.5"
  }
 },
 "nbformat": 4,
 "nbformat_minor": 2
}
