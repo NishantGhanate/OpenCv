{
 "cells": [
  {
   "cell_type": "code",
   "execution_count": 27,
   "metadata": {},
   "outputs": [
    {
     "name": "stdout",
     "output_type": "stream",
     "text": [
      "[[ 6 17 18 ... 33 35 20]\n",
      " [ 7 16 18 ... 33 35 20]\n",
      " [ 7 16 18 ... 33 36 20]\n",
      " ...\n",
      " [ 4 12 15 ... 15 19  6]\n",
      " [ 4 12 15 ... 15 19  6]\n",
      " [ 4 12 15 ... 15 19  6]]\n"
     ]
    }
   ],
   "source": [
    "import cv2\n",
    "import os\n",
    "import re\n",
    "\n",
    "scriptDir = os.path.dirname(os.path.realpath('__file__'))\n",
    "\n",
    "img = cv2.imread('H:/Github/OpenCv/Research/images/A14.png')\n",
    "\n",
    "imageHeight , imageWidth , Channel = img.shape\n",
    "\n",
    "Blue , Green ,  Red = cv2.split(img)\n",
    "\n",
    "print(Red)\n"
   ]
  },
  {
   "cell_type": "code",
   "execution_count": 28,
   "metadata": {},
   "outputs": [],
   "source": [
    "def Dec2bin(n):\n",
    "    x=n\n",
    "    k=[]\n",
    "    while (n>0):\n",
    "        #print(\"value of n = {}\".format(n))\n",
    "        a=int(float(n%2))\n",
    "        #print(\"n%2 = {}\".format(a))\n",
    "        k.append(a)\n",
    "        n=(n-a)/2\n",
    "        #print(\"(n-a)/2 = {}\".format(n))\n",
    "    string=\"\"\n",
    "\n",
    "    #print(\"k = {}\".format(k) )\n",
    "    #print(\"k[::-1] = {}\".format(k[::-1]) )\n",
    "    \n",
    "    \n",
    "    for j in k[::-1]:\n",
    "#         print(\"value of j = {}\".format(j))\n",
    "        string=string+str(j)\n",
    "    \n",
    "    binaryLen = 8 - len(string)\n",
    "#     print(binaryLen)\n",
    "    if binaryLen >= 1:\n",
    "        for i in range(binaryLen):\n",
    "            string = '0' + string\n",
    "            #print(\"in loop\")\n",
    "    #print('The binary no. for %d is %s'%(x, string))\n",
    "    return string"
   ]
  },
  {
   "cell_type": "code",
   "execution_count": 29,
   "metadata": {},
   "outputs": [],
   "source": [
    "Bits = []\n",
    "for h in range(imageHeight):\n",
    "    for w in range(imageWidth):\n",
    "        r =  Dec2bin(Red[h][w])\n",
    "        Bits.append(r[-1])"
   ]
  },
  {
   "cell_type": "code",
   "execution_count": 30,
   "metadata": {},
   "outputs": [],
   "source": [
    "binaryMsg = list()\n",
    "i = 0\n",
    "binary = ''\n",
    "\n",
    "for b in Bits:\n",
    "    binary += b\n",
    "    i = i + 1\n",
    "    if i == 8:\n",
    "        binaryMsg.append(binary)\n",
    "        i = 0\n",
    "        binary = ''\n",
    "        \n",
    "#print(binaryMsg)\n",
    "    "
   ]
  },
  {
   "cell_type": "code",
   "execution_count": 31,
   "metadata": {},
   "outputs": [],
   "source": [
    "msg = [int(b,2) for b in binaryMsg]\n",
    "#print(msg)\n"
   ]
  },
  {
   "cell_type": "code",
   "execution_count": 32,
   "metadata": {},
   "outputs": [],
   "source": [
    "stringMsg = [chr(m) for m in msg]\n",
    "#print(stringMsg)\n"
   ]
  },
  {
   "cell_type": "code",
   "execution_count": 33,
   "metadata": {},
   "outputs": [],
   "source": [
    "stringMsg = ''\n",
    "Message = ''\n",
    "count = 0\n",
    "for m in msg:\n",
    "    stringMsg = chr(m)\n",
    "    Message = Message + stringMsg      "
   ]
  },
  {
   "cell_type": "code",
   "execution_count": 34,
   "metadata": {},
   "outputs": [],
   "source": [
    "#print(Message)"
   ]
  },
  {
   "cell_type": "code",
   "execution_count": 35,
   "metadata": {},
   "outputs": [
    {
     "name": "stdout",
     "output_type": "stream",
     "text": [
      "z\n"
     ]
    }
   ],
   "source": [
    "Message = re.search('@.*?@',Message).group()\n",
    "Message = Message.replace('@','')\n",
    "print(Message)"
   ]
  },
  {
   "cell_type": "code",
   "execution_count": null,
   "metadata": {},
   "outputs": [],
   "source": []
  }
 ],
 "metadata": {
  "kernelspec": {
   "display_name": "Python 3",
   "language": "python",
   "name": "python3"
  },
  "language_info": {
   "codemirror_mode": {
    "name": "ipython",
    "version": 3
   },
   "file_extension": ".py",
   "mimetype": "text/x-python",
   "name": "python",
   "nbconvert_exporter": "python",
   "pygments_lexer": "ipython3",
   "version": "3.6.5"
  }
 },
 "nbformat": 4,
 "nbformat_minor": 2
}
