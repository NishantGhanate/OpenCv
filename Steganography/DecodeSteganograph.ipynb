{
 "cells": [
  {
   "cell_type": "code",
   "execution_count": 3,
   "metadata": {},
   "outputs": [
    {
     "name": "stdout",
     "output_type": "stream",
     "text": [
      "[[[  0  10  25]\n",
      "  [ 98 119 170]\n",
      "  [ 13  12 108]\n",
      "  [ 14  68 175]\n",
      "  [ 27 151 215]\n",
      "  [105 231 212]\n",
      "  [113 153  75]\n",
      "  [198 141  66]\n",
      "  [171  76  60]\n",
      "  [160  94 136]\n",
      "  [193 170 238]\n",
      "  [116 116 176]]\n",
      "\n",
      " [[133 207 209]\n",
      "  [189 215 252]\n",
      "  [165 171 254]\n",
      "  [103 161 255]\n",
      "  [ 84 215 255]\n",
      "  [ 92 222 191]\n",
      "  [184 231 139]\n",
      "  [210 157  70]\n",
      "  [217 127  96]\n",
      "  [219 158 186]\n",
      "  [120 100 153]\n",
      "  [226 232 255]]]\n"
     ]
    }
   ],
   "source": [
    "import cv2\n",
    "import os\n",
    "import re\n",
    "\n",
    "scriptDir = os.path.dirname(os.path.realpath('__file__'))\n",
    "\n",
    "img = cv2.imread(scriptDir + os.path.sep + 'output.jpg')\n",
    "\n",
    "imageHeight , imageWidth , Channel = img.shape\n",
    "\n",
    "Red , Green , Blue = cv2.split(img)\n",
    "\n",
    "print(img)\n"
   ]
  },
  {
   "cell_type": "code",
   "execution_count": 6,
   "metadata": {},
   "outputs": [
    {
     "name": "stdout",
     "output_type": "stream",
     "text": [
      "72\n",
      "['0', '0', '1', '0', '1', '0', '1', '0', '0', '0', '0', '1', '1', '1', '1', '1', '1', '0', '1', '1', '1', '0', '1', '0', '1', '0', '0', '0', '0', '0', '1', '0', '0', '0', '0', '0', '1', '1', '1', '1', '1', '0', '1', '1', '0', '1', '1', '1', '0', '1', '1', '0', '0', '1', '0', '1', '1', '0', '1', '0', '1', '1', '0', '1', '0', '0', '0', '0', '1', '0', '0', '1']\n"
     ]
    }
   ],
   "source": [
    "Bits = []\n",
    "for h in range(imageHeight):\n",
    "    for w in range(imageWidth):\n",
    "        r = Red[h][w]\n",
    "        r = bin(r)\n",
    "        Bits.append(r[-1])\n",
    "        \n",
    "        g = Green[h][w]\n",
    "        g = bin(g)\n",
    "        Bits.append(g[-1])\n",
    "        \n",
    "        b = Blue[h][w]\n",
    "        b = bin(b)\n",
    "        Bits.append(b[-1])\n",
    "\n",
    "print(len(Bits))\n",
    "print(Bits)\n"
   ]
  },
  {
   "cell_type": "code",
   "execution_count": 14,
   "metadata": {},
   "outputs": [
    {
     "name": "stdout",
     "output_type": "stream",
     "text": [
      "['00101010', '00011111', '10111010', '10000010', '00001111', '10110111', '01100101', '10101101', '00001001']\n"
     ]
    }
   ],
   "source": [
    "binaryMsg = list()\n",
    "i = 0\n",
    "binary = ''\n",
    "\n",
    "for b in Bits:\n",
    "    binary += b\n",
    "    i = i + 1\n",
    "    if i == 8:\n",
    "        binaryMsg.append(binary)\n",
    "        i = 0\n",
    "        binary = ''\n",
    "        \n",
    "print(binaryMsg)\n",
    "    "
   ]
  },
  {
   "cell_type": "code",
   "execution_count": 15,
   "metadata": {},
   "outputs": [
    {
     "name": "stdout",
     "output_type": "stream",
     "text": [
      "[42, 31, 186, 130, 15, 183, 101, 173, 9]\n"
     ]
    }
   ],
   "source": [
    "msg = [int(b,2) for b in binaryMsg]\n",
    "print(msg)\n"
   ]
  },
  {
   "cell_type": "code",
   "execution_count": 16,
   "metadata": {},
   "outputs": [
    {
     "name": "stdout",
     "output_type": "stream",
     "text": [
      "['*', '\\x1f', 'º', '\\x82', '\\x0f', '·', 'e', '\\xad', '\\t']\n"
     ]
    }
   ],
   "source": [
    "stringMsg = [chr(m) for m in msg]\n",
    "print(stringMsg)\n"
   ]
  },
  {
   "cell_type": "code",
   "execution_count": null,
   "metadata": {},
   "outputs": [],
   "source": []
  }
 ],
 "metadata": {
  "kernelspec": {
   "display_name": "Python 3",
   "language": "python",
   "name": "python3"
  },
  "language_info": {
   "codemirror_mode": {
    "name": "ipython",
    "version": 3
   },
   "file_extension": ".py",
   "mimetype": "text/x-python",
   "name": "python",
   "nbconvert_exporter": "python",
   "pygments_lexer": "ipython3",
   "version": "3.6.5"
  }
 },
 "nbformat": 4,
 "nbformat_minor": 2
}
